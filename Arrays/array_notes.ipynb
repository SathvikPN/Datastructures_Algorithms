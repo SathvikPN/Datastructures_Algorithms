{
 "metadata": {
  "language_info": {
   "codemirror_mode": {
    "name": "ipython",
    "version": 3
   },
   "file_extension": ".py",
   "mimetype": "text/x-python",
   "name": "python",
   "nbconvert_exporter": "python",
   "pygments_lexer": "ipython3",
   "version": "3.9.0"
  },
  "orig_nbformat": 2,
  "kernelspec": {
   "name": "python390jvsc74a57bd0ac59ebe37160ed0dfa835113d9b8498d9f09ceb179beaac4002f036b9467c963",
   "display_name": "Python 3.9.0 64-bit"
  },
  "metadata": {
   "interpreter": {
    "hash": "ac59ebe37160ed0dfa835113d9b8498d9f09ceb179beaac4002f036b9467c963"
   }
  }
 },
 "nbformat": 4,
 "nbformat_minor": 2,
 "cells": [
  {
   "source": [
    "```a[:] = .... a.methods .... ``` inplace operation"
   ],
   "cell_type": "markdown",
   "metadata": {}
  },
  {
   "cell_type": "code",
   "execution_count": 1,
   "metadata": {},
   "outputs": [
    {
     "output_type": "stream",
     "name": "stdout",
     "text": [
      "1491112450368  mutable a (list)\n1491112450368  a[:] = a + [...]\n1491112450368  a += [...]\n1491112448192  a = a + [..] \n"
     ]
    }
   ],
   "source": [
    "a = [1,2,3]\n",
    "print(id(a),' mutable a (list)')\n",
    "\n",
    "a[:] = a + [4,5] # inplace operation\n",
    "print(id(a),' a[:] = a + [...]')\n",
    "\n",
    "a += [6,7] # inplace operation for mutable list\n",
    "print(id(a),' a += [...]')\n",
    "\n",
    "a = a + [8,9] # new list instance\n",
    "print(id(a),' a = a + [..] ')"
   ]
  },
  {
   "cell_type": "code",
   "execution_count": 2,
   "metadata": {},
   "outputs": [
    {
     "output_type": "stream",
     "name": "stdout",
     "text": [
      "1491038464272 immutable a (int)\n1491038464304 [a+=1]\n1491038464336 [a=a+1] \n"
     ]
    }
   ],
   "source": [
    "a = 0\n",
    "print(id(a),'immutable a (int)')\n",
    "\n",
    "a += 1 \n",
    "print(id(a),'[a+=1]')\n",
    "\n",
    "a = a + 1 \n",
    "print(id(a),'[a=a+1] ')"
   ]
  },
  {
   "cell_type": "code",
   "execution_count": null,
   "metadata": {},
   "outputs": [],
   "source": []
  }
 ]
}